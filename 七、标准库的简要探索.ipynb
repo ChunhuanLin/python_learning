{
 "cells": [
  {
   "cell_type": "markdown",
   "metadata": {},
   "source": [
    "### 1. 操作系统接口"
   ]
  },
  {
   "cell_type": "markdown",
   "metadata": {},
   "source": [
    "[os](https://docs.python.org/3.5/library/os.html#module-os)模块提供了大量的与操作系统交互的函数。"
   ]
  },
  {
   "cell_type": "raw",
   "metadata": {},
   "source": [
    ">>> import os\n",
    ">>> os.getcwd()      # Return the current working directory\n",
    "'C:\\\\Python35'\n",
    ">>> os.chdir('/server/accesslogs')   # Change current working directory\n",
    ">>> os.system('mkdir today')   # Run the command mkdir in the system shell\n",
    "0"
   ]
  },
  {
   "cell_type": "markdown",
   "metadata": {},
   "source": [
    "**注意:** 使用*import os*的形式而不要使用*from os import \\**"
   ]
  },
  {
   "cell_type": "markdown",
   "metadata": {},
   "source": [
    "内建函数[dir()](https://docs.python.org/3.5/library/functions.html#dir)和[help()](https://docs.python.org/3.5/library/functions.html#help)可以帮助使用像*os*这种大的模块"
   ]
  },
  {
   "cell_type": "raw",
   "metadata": {},
   "source": [
    ">>> import os\n",
    ">>> dir(os)\n",
    "<returns a list of all module functions>\n",
    ">>> help(os)\n",
    "<returns an extensive manual page created from the module's docstrings>"
   ]
  },
  {
   "cell_type": "markdown",
   "metadata": {},
   "source": [
    "对日常文件和目录管理任务，**[shutil](https://docs.python.org/3.5/library/shutil.html#module-shutil)**模块提供了更高级更方便的接口"
   ]
  },
  {
   "cell_type": "raw",
   "metadata": {},
   "source": [
    ">>> import shutil\n",
    ">>> shutil.copyfile('data.db', 'archive.db')\n",
    "'archive.db'\n",
    ">>> shutil.move('/build/executables', 'installdir')\n",
    "'installdir'"
   ]
  },
  {
   "cell_type": "markdown",
   "metadata": {},
   "source": [
    "### 2. 文件通配符"
   ]
  },
  {
   "cell_type": "markdown",
   "metadata": {},
   "source": [
    "[glob]()模块提供从目录通配符搜索得到文件列表的函数"
   ]
  },
  {
   "cell_type": "raw",
   "metadata": {},
   "source": [
    ">>> import glob\n",
    ">>> glob.glob('*.py')\n",
    "['primes.py', 'random.py', 'quote.py']"
   ]
  },
  {
   "cell_type": "markdown",
   "metadata": {},
   "source": [
    "### 3. 命令行参数"
   ]
  },
  {
   "cell_type": "markdown",
   "metadata": {},
   "source": [
    "通常执行脚本需要处理命令行参数。这些参数存在[sys](https://docs.python.org/3.5/library/sys.html#module-sys)模块的*argv*属性里面"
   ]
  },
  {
   "cell_type": "raw",
   "metadata": {},
   "source": [
    "# 若输入的命令是python demo.py one two three，则：\n",
    ">>> import sys\n",
    ">>> print(sys.argv)\n",
    "['demo.py', 'one', 'two', 'three']"
   ]
  },
  {
   "cell_type": "markdown",
   "metadata": {},
   "source": [
    "更强有力的处理方法由[argparse](https://docs.python.org/3.5/library/argparse.html#module-argparse)模块提供"
   ]
  },
  {
   "cell_type": "markdown",
   "metadata": {},
   "source": [
    "### 4. 错误输出重定向和程序终止"
   ]
  },
  {
   "cell_type": "markdown",
   "metadata": {},
   "source": [
    "错误输出重定向："
   ]
  },
  {
   "cell_type": "code",
   "execution_count": 5,
   "metadata": {},
   "outputs": [
    {
     "name": "stderr",
     "output_type": "stream",
     "text": [
      "Warning, log file not found starting a new one\n"
     ]
    }
   ],
   "source": [
    "import sys\n",
    "sys.stderr.write('Warning, log file not found starting a new one\\n')"
   ]
  },
  {
   "cell_type": "markdown",
   "metadata": {},
   "source": [
    "终止脚本："
   ]
  },
  {
   "cell_type": "raw",
   "metadata": {},
   "source": [
    "sys.exit()"
   ]
  },
  {
   "cell_type": "markdown",
   "metadata": {},
   "source": [
    "### 5. 字符串模式匹配"
   ]
  },
  {
   "cell_type": "markdown",
   "metadata": {},
   "source": [
    "[re](https://docs.python.org/3.5/library/re.html#module-re)模块提供了正则表示工具"
   ]
  },
  {
   "cell_type": "code",
   "execution_count": 7,
   "metadata": {
    "collapsed": true
   },
   "outputs": [],
   "source": [
    "import re"
   ]
  },
  {
   "cell_type": "code",
   "execution_count": 8,
   "metadata": {},
   "outputs": [
    {
     "data": {
      "text/plain": [
       "['foot', 'fell', 'fastest']"
      ]
     },
     "execution_count": 8,
     "metadata": {},
     "output_type": "execute_result"
    }
   ],
   "source": [
    "re.findall(r'\\bf[a-z]*', 'which foot or hand fell fastest')"
   ]
  },
  {
   "cell_type": "code",
   "execution_count": 9,
   "metadata": {},
   "outputs": [
    {
     "data": {
      "text/plain": [
       "'cat in the hat'"
      ]
     },
     "execution_count": 9,
     "metadata": {},
     "output_type": "execute_result"
    }
   ],
   "source": [
    "re.sub(r'(\\b[a-z]+) \\1', r'\\1', 'cat in the the hat')"
   ]
  },
  {
   "cell_type": "markdown",
   "metadata": {},
   "source": [
    "当只需要简单的功能时，更适合用字符串的方法，因为更容易读和调参"
   ]
  },
  {
   "cell_type": "code",
   "execution_count": 10,
   "metadata": {},
   "outputs": [
    {
     "data": {
      "text/plain": [
       "'tea for two'"
      ]
     },
     "execution_count": 10,
     "metadata": {},
     "output_type": "execute_result"
    }
   ],
   "source": [
    "'tea for too'.replace('too', 'two')"
   ]
  },
  {
   "cell_type": "markdown",
   "metadata": {},
   "source": [
    "### 6. 数学"
   ]
  },
  {
   "cell_type": "markdown",
   "metadata": {},
   "source": [
    "[math](https://docs.python.org/3.5/library/math.html#module-math)模块提供了浮点数数学运算"
   ]
  },
  {
   "cell_type": "code",
   "execution_count": 11,
   "metadata": {},
   "outputs": [
    {
     "data": {
      "text/plain": [
       "10.0"
      ]
     },
     "execution_count": 11,
     "metadata": {},
     "output_type": "execute_result"
    }
   ],
   "source": [
    "import math\n",
    "math.cos(math.pi / 4)\n",
    "\n",
    "math.log(1024, 2)"
   ]
  },
  {
   "cell_type": "markdown",
   "metadata": {},
   "source": [
    "[random](https://docs.python.org/3.5/library/random.html#module-random)模块提供了做随机数选择的工具"
   ]
  },
  {
   "cell_type": "raw",
   "metadata": {},
   "source": [
    ">>> import random\n",
    ">>> random.choice(['apple', 'pear', 'banana'])\n",
    "'apple'\n",
    ">>> random.sample(range(100), 10)   # sampling without replacement\n",
    "[30, 83, 16, 4, 8, 81, 41, 50, 18, 33]\n",
    ">>> random.random()    # random float\n",
    "0.17970987693706186\n",
    ">>> random.randrange(6)    # random integer chosen from range(6)\n",
    "4"
   ]
  },
  {
   "cell_type": "markdown",
   "metadata": {},
   "source": [
    "[statistics](https://docs.python.org/3.5/library/statistics.html#module-statistics)模块可以从大量数据中得到基本的统计特性。"
   ]
  },
  {
   "cell_type": "raw",
   "metadata": {},
   "source": [
    ">>> import statistics\n",
    ">>> data = [2.75, 1.75, 1.25, 0.25, 0.5, 1.25, 3.5]\n",
    ">>> statistics.mean(data)\n",
    "1.6071428571428572\n",
    ">>> statistics.median(data)\n",
    "1.25\n",
    ">>> statistics.variance(data)\n",
    "1.3720238095238095"
   ]
  },
  {
   "cell_type": "markdown",
   "metadata": {},
   "source": [
    "[Scipy](https://scipy.org/)拥有更多的用于数值运算的模块"
   ]
  },
  {
   "cell_type": "markdown",
   "metadata": {},
   "source": [
    "### 7. 因特网入口"
   ]
  },
  {
   "cell_type": "markdown",
   "metadata": {},
   "source": [
    "有许多用于进入因特网和处理因特网协议的模块。其中两个就是：用于从ＵＲＬ中检索数据的[urllib.request](https://docs.python.org/3.5/library/urllib.request.html#module-urllib.request)以及用于发送邮件的[smtplib](https://docs.python.org/3.5/library/smtplib.html#module-smtplib)（需要本机上有邮件服务器）"
   ]
  },
  {
   "cell_type": "raw",
   "metadata": {},
   "source": [
    ">>> from urllib.request import urlopen\n",
    ">>> with urlopen('http://tycho.usno.navy.mil/cgi-bin/timer.pl') as response:\n",
    "...     for line in response:\n",
    "...         line = line.decode('utf-8')  # Decoding the binary data to text.\n",
    "...         if 'EST' in line or 'EDT' in line:  # look for Eastern Time\n",
    "...             print(line)\n",
    "\n",
    "<BR>Nov. 25, 09:43:32 PM EST\n",
    "\n",
    ">>> import smtplib\n",
    ">>> server = smtplib.SMTP('localhost')\n",
    ">>> server.sendmail('soothsayer@example.org', 'jcaesar@example.org',\n",
    "... \"\"\"To: jcaesar@example.org\n",
    "... From: soothsayer@example.org\n",
    "...\n",
    "... Beware the Ides of March.\n",
    "... \"\"\")\n",
    ">>> server.quit()"
   ]
  },
  {
   "cell_type": "markdown",
   "metadata": {},
   "source": [
    "### 8. 日期和时间"
   ]
  },
  {
   "cell_type": "markdown",
   "metadata": {},
   "source": [
    "[datetime](https://docs.python.org/3.5/library/datetime.html#module-datetime)模块支持时间和日期。他便于规范输出格式和修改。"
   ]
  },
  {
   "cell_type": "markdown",
   "metadata": {},
   "source": [
    "### 9. 数据压缩"
   ]
  },
  {
   "cell_type": "markdown",
   "metadata": {},
   "source": [
    "常见的数据归档和压缩的模块包括：[zlib](https://docs.python.org/3.5/library/zlib.html#module-zlib), [gzip](https://docs.python.org/3.5/library/gzip.html#module-gzip), [bz2](https://docs.python.org/3.5/library/bz2.html#module-bz2), [lzma](https://docs.python.org/3.5/library/lzma.html#module-lzma), [zipfile](https://docs.python.org/3.5/library/zipfile.html#module-zipfile), [tarfile](https://docs.python.org/3.5/library/tarfile.html#module-tarfile)"
   ]
  },
  {
   "cell_type": "raw",
   "metadata": {},
   "source": [
    ">>> import zlib\n",
    ">>> s = b'witch which has which witches wrist watch'\n",
    ">>> len(s)\n",
    "41\n",
    ">>> t = zlib.compress(s)\n",
    ">>> len(t)\n",
    "37\n",
    ">>> zlib.decompress(t)\n",
    "b'witch which has which witches wrist watch'\n",
    ">>> zlib.crc32(s)\n",
    "226805979"
   ]
  },
  {
   "cell_type": "markdown",
   "metadata": {},
   "source": [
    "### 10. 性能评估"
   ]
  },
  {
   "cell_type": "markdown",
   "metadata": {},
   "source": [
    "使用[timeit](https://docs.python.org/3.5/library/timeit.html#module-timeit)"
   ]
  },
  {
   "cell_type": "code",
   "execution_count": 12,
   "metadata": {
    "collapsed": true
   },
   "outputs": [],
   "source": [
    "from timeit import Timer"
   ]
  },
  {
   "cell_type": "code",
   "execution_count": 13,
   "metadata": {},
   "outputs": [
    {
     "data": {
      "text/plain": [
       "0.0206459089999953"
      ]
     },
     "execution_count": 13,
     "metadata": {},
     "output_type": "execute_result"
    }
   ],
   "source": [
    "Timer('t=a; a=b; b=t', 'a=1; b=2').timeit()"
   ]
  },
  {
   "cell_type": "code",
   "execution_count": 14,
   "metadata": {},
   "outputs": [
    {
     "data": {
      "text/plain": [
       "0.02040057699969111"
      ]
     },
     "execution_count": 14,
     "metadata": {},
     "output_type": "execute_result"
    }
   ],
   "source": [
    "Timer('a,b = b,a', 'a=1; b=2').timeit()"
   ]
  },
  {
   "cell_type": "markdown",
   "metadata": {},
   "source": [
    "[profile](https://docs.python.org/3.5/library/profile.html#module-profile)和[pstats](https://docs.python.org/3.5/library/profile.html#module-profile)提供了用于确认更大块代码效率的工具"
   ]
  },
  {
   "cell_type": "markdown",
   "metadata": {},
   "source": [
    "### 11. 质量控制"
   ]
  },
  {
   "cell_type": "markdown",
   "metadata": {},
   "source": [
    "[doctest](https://docs.python.org/3.5/library/doctest.html#module-doctest)模块提供了一个工具，它可以扫描一个模块，并且评估嵌入到*docstring*里面的测试代码。"
   ]
  },
  {
   "cell_type": "code",
   "execution_count": 15,
   "metadata": {},
   "outputs": [
    {
     "data": {
      "text/plain": [
       "TestResults(failed=0, attempted=1)"
      ]
     },
     "execution_count": 15,
     "metadata": {},
     "output_type": "execute_result"
    }
   ],
   "source": [
    "def average(values):\n",
    "    \"\"\"Computes the arithmetic mean of a list of numbers.\n",
    "\n",
    "    >>> print(average([20, 30, 70]))\n",
    "    40.0\n",
    "    \"\"\"\n",
    "    return sum(values) / len(values)\n",
    "\n",
    "import doctest\n",
    "doctest.testmod()   # automatically validate the embedded tests"
   ]
  },
  {
   "cell_type": "markdown",
   "metadata": {},
   "source": [
    "[unittest](https://docs.python.org/3.5/library/unittest.html#module-unittest)提供了另一种方式"
   ]
  },
  {
   "cell_type": "raw",
   "metadata": {},
   "source": [
    "import unittest\n",
    "\n",
    "class TestStatisticalFunctions(unittest.TestCase):\n",
    "\n",
    "    def test_average(self):\n",
    "        self.assertEqual(average([20, 30, 70]), 40.0)\n",
    "        self.assertEqual(round(average([1, 5, 7]), 1), 4.3)\n",
    "        with self.assertRaises(ZeroDivisionError):\n",
    "            average([])\n",
    "        with self.assertRaises(TypeError):\n",
    "            average(20, 30, 70)\n",
    "\n",
    "unittest.main()  # Calling from the command line invokes all tests"
   ]
  },
  {
   "cell_type": "markdown",
   "metadata": {},
   "source": [
    "### 12. 内置电池"
   ]
  },
  {
   "cell_type": "markdown",
   "metadata": {},
   "source": [
    "Python拥有一种“内置电池”的哲学。这可以从他更大的包含复杂且鲁棒特性的包里体现出来"
   ]
  }
 ],
 "metadata": {
  "kernelspec": {
   "display_name": "Python 3",
   "language": "python",
   "name": "python3"
  },
  "language_info": {
   "codemirror_mode": {
    "name": "ipython",
    "version": 3
   },
   "file_extension": ".py",
   "mimetype": "text/x-python",
   "name": "python",
   "nbconvert_exporter": "python",
   "pygments_lexer": "ipython3",
   "version": "3.5.2"
  }
 },
 "nbformat": 4,
 "nbformat_minor": 2
}
