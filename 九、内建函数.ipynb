{
 "cells": [
  {
   "cell_type": "markdown",
   "metadata": {},
   "source": [
    "所有内建函数的[链接](https://docs.python.org/3.5/library/functions.html)，这里只总结几个常用的"
   ]
  },
  {
   "cell_type": "markdown",
   "metadata": {},
   "source": [
    "### 1. all(iterable)\n",
    "\n",
    "    如果可迭代对象的所有元素都是Ｔｒｕｅ或该迭代对象是空的，则返回Ｔｒｕｅ"
   ]
  },
  {
   "cell_type": "markdown",
   "metadata": {},
   "source": [
    "### 2. any(iterable)\n",
    "\n",
    "    如果iterable的任一元素为Ｔｒｕｅ则返回Ｔｒｕｅ，若ｉｌｔｅｒａｂｌｅ为空，则返回Ｆａｌｓｅ"
   ]
  },
  {
   "cell_type": "markdown",
   "metadata": {},
   "source": [
    "### 3. ascii(object)\n",
    "\n",
    "    与repr()类似，但是将非ascii码值用转义字符表示"
   ]
  },
  {
   "cell_type": "code",
   "execution_count": 9,
   "metadata": {},
   "outputs": [
    {
     "data": {
      "text/plain": [
       "\"'a\\\\u963f\\\\u7518'\""
      ]
     },
     "execution_count": 9,
     "metadata": {},
     "output_type": "execute_result"
    }
   ],
   "source": [
    "ascii(\"a阿甘\")"
   ]
  },
  {
   "cell_type": "code",
   "execution_count": 8,
   "metadata": {},
   "outputs": [
    {
     "data": {
      "text/plain": [
       "\"'a阿甘'\""
      ]
     },
     "execution_count": 8,
     "metadata": {},
     "output_type": "execute_result"
    }
   ],
   "source": [
    "repr(\"a阿甘\")"
   ]
  },
  {
   "cell_type": "markdown",
   "metadata": {},
   "source": [
    "### 4. bin(x)\n",
    "\n",
    "    将整形ｉｎｔ转换为二进制字符串，如果x不是int对象，则他必须定义一个__index__()方法，来返回一个整数"
   ]
  },
  {
   "cell_type": "markdown",
   "metadata": {},
   "source": [
    "### 5. class bool([x])"
   ]
  },
  {
   "cell_type": "code",
   "execution_count": 11,
   "metadata": {},
   "outputs": [
    {
     "data": {
      "text/plain": [
       "True"
      ]
     },
     "execution_count": 11,
     "metadata": {},
     "output_type": "execute_result"
    }
   ],
   "source": [
    "bool(\"a\")"
   ]
  },
  {
   "cell_type": "code",
   "execution_count": 14,
   "metadata": {},
   "outputs": [
    {
     "data": {
      "text/plain": [
       "True"
      ]
     },
     "execution_count": 14,
     "metadata": {},
     "output_type": "execute_result"
    }
   ],
   "source": [
    "bool([False,0])"
   ]
  },
  {
   "cell_type": "code",
   "execution_count": 13,
   "metadata": {},
   "outputs": [
    {
     "data": {
      "text/plain": [
       "False"
      ]
     },
     "execution_count": 13,
     "metadata": {},
     "output_type": "execute_result"
    }
   ],
   "source": [
    "bool(False)"
   ]
  },
  {
   "cell_type": "markdown",
   "metadata": {},
   "source": [
    "### 6. chr(i)\n",
    "\n",
    "    整数ｉ作为Ｕｎｉｃｏｄｅ编码的码值，返回其对应的Ｕｎｉｃｏｄｅ字符"
   ]
  },
  {
   "cell_type": "code",
   "execution_count": 16,
   "metadata": {},
   "outputs": [
    {
     "data": {
      "text/plain": [
       "'a'"
      ]
     },
     "execution_count": 16,
     "metadata": {},
     "output_type": "execute_result"
    }
   ],
   "source": [
    "chr(97)"
   ]
  },
  {
   "cell_type": "markdown",
   "metadata": {},
   "source": [
    "### 7. classmethod(function)"
   ]
  },
  {
   "cell_type": "raw",
   "metadata": {},
   "source": [
    "class C:\n",
    "    @classmethod\n",
    "    def f(cls, arg1, arg2, ...): ..."
   ]
  },
  {
   "cell_type": "markdown",
   "metadata": {},
   "source": [
    "### 8. class complex([real[, imag]])\n",
    "\n",
    "    '+'和'-'之间不能留空格"
   ]
  },
  {
   "cell_type": "code",
   "execution_count": 20,
   "metadata": {},
   "outputs": [
    {
     "data": {
      "text/plain": [
       "(1+2j)"
      ]
     },
     "execution_count": 20,
     "metadata": {},
     "output_type": "execute_result"
    }
   ],
   "source": [
    "complex('1+2j')"
   ]
  },
  {
   "cell_type": "code",
   "execution_count": 22,
   "metadata": {},
   "outputs": [
    {
     "ename": "ValueError",
     "evalue": "complex() arg is a malformed string",
     "output_type": "error",
     "traceback": [
      "\u001b[0;31m---------------------------------------------------------------------------\u001b[0m",
      "\u001b[0;31mValueError\u001b[0m                                Traceback (most recent call last)",
      "\u001b[0;32m<ipython-input-22-f11f86474967>\u001b[0m in \u001b[0;36m<module>\u001b[0;34m()\u001b[0m\n\u001b[1;32m      1\u001b[0m \u001b[0;31m# 不能包含空格：\u001b[0m\u001b[0;34m\u001b[0m\u001b[0;34m\u001b[0m\u001b[0m\n\u001b[0;32m----> 2\u001b[0;31m \u001b[0mcomplex\u001b[0m\u001b[0;34m(\u001b[0m\u001b[0;34m'1 + 2j'\u001b[0m\u001b[0;34m)\u001b[0m\u001b[0;34m\u001b[0m\u001b[0m\n\u001b[0m",
      "\u001b[0;31mValueError\u001b[0m: complex() arg is a malformed string"
     ]
    }
   ],
   "source": [
    "# 不能包含空格：\n",
    "complex('1 + 2j')"
   ]
  },
  {
   "cell_type": "markdown",
   "metadata": {},
   "source": [
    "### 9. delattr(object, name)\n",
    "\n",
    "    删除object的一个名为name的属性"
   ]
  },
  {
   "cell_type": "markdown",
   "metadata": {},
   "source": [
    "### 10. dir([object])\n",
    "\n",
    "    没有参数的时候，返回当前局部作用域的名字列表；\n",
    "    有参数的时候，返回object的有效的属性的列表"
   ]
  },
  {
   "cell_type": "markdown",
   "metadata": {},
   "source": [
    "### 11. divmod(a, b)\n",
    "\n",
    "    返回商和余数"
   ]
  },
  {
   "cell_type": "code",
   "execution_count": 23,
   "metadata": {},
   "outputs": [
    {
     "data": {
      "text/plain": [
       "(2, 1)"
      ]
     },
     "execution_count": 23,
     "metadata": {},
     "output_type": "execute_result"
    }
   ],
   "source": [
    "divmod(5,2)"
   ]
  },
  {
   "cell_type": "markdown",
   "metadata": {},
   "source": [
    "### 12. enumerate(iterable, start=0)\n",
    "\n",
    "    返回一个枚举对象。iteralbe必须是一个序列，迭代器，或者其他可迭代的对象"
   ]
  },
  {
   "cell_type": "code",
   "execution_count": 24,
   "metadata": {},
   "outputs": [
    {
     "data": {
      "text/plain": [
       "[(1, 'Spring'), (2, 'Summer'), (3, 'Fall'), (4, 'Winter')]"
      ]
     },
     "execution_count": 24,
     "metadata": {},
     "output_type": "execute_result"
    }
   ],
   "source": [
    "seasons = ['Spring', 'Summer', 'Fall', 'Winter']\n",
    "list(enumerate(seasons, start=1))"
   ]
  },
  {
   "cell_type": "code",
   "execution_count": 25,
   "metadata": {},
   "outputs": [
    {
     "data": {
      "text/plain": [
       "<enumerate at 0x7fa5c0cdbb40>"
      ]
     },
     "execution_count": 25,
     "metadata": {},
     "output_type": "execute_result"
    }
   ],
   "source": [
    "enumerate(seasons, start=1)"
   ]
  },
  {
   "cell_type": "markdown",
   "metadata": {},
   "source": [
    "### 13. eval(expression, globals=None, locals=None)\n",
    "    \n",
    "    执行表达式"
   ]
  },
  {
   "cell_type": "code",
   "execution_count": 26,
   "metadata": {},
   "outputs": [
    {
     "data": {
      "text/plain": [
       "2"
      ]
     },
     "execution_count": 26,
     "metadata": {},
     "output_type": "execute_result"
    }
   ],
   "source": [
    "x = 1\n",
    "eval('x+1')"
   ]
  },
  {
   "cell_type": "markdown",
   "metadata": {},
   "source": [
    "### 14. filter(function, iterable)\n",
    "\n",
    "    返回ｉｔｅｒａｂｌｅ中使得函数ｆｕｎｃｔｉｏｎ为Ｔｒｕｅ的元素，若ｆｕｎｃｔｉｏｎ是Ｎｏｎｅ的时候，则只去掉ｉｔｅｒａｂｌｅ中的Ｆａｌｓｅ元素\n",
    "    相当于function非Ｎｏｎｅ时的“(item for item in iterable if function(item))”，和ｆｕｎｃｔｉｏｎ为Ｎｏｎｅ时的“(item for item in iterable if item)”"
   ]
  },
  {
   "cell_type": "markdown",
   "metadata": {},
   "source": [
    "### 15. getattr(object, name[, default])\n",
    "\n",
    "    返回对象某被命名了的属性值"
   ]
  },
  {
   "cell_type": "markdown",
   "metadata": {},
   "source": [
    "### 16. globals()\n",
    "\n",
    "    返回包含当前全局符号表的字典"
   ]
  },
  {
   "cell_type": "code",
   "execution_count": 28,
   "metadata": {},
   "outputs": [
    {
     "data": {
      "text/plain": [
       "{'C': __main__.C,\n",
       " 'In': ['',\n",
       "  'ascii(\"a\\\\n\")',\n",
       "  'ascii(\"a\\\\x\")',\n",
       "  'ascii(\"a\\\\\")',\n",
       "  'ascii(\"a\")',\n",
       "  'repr(\"a\")',\n",
       "  'ascii(\"将哦阿甘\")',\n",
       "  'ascii(\"a将哦阿甘\")',\n",
       "  'repr(\"a阿甘\")',\n",
       "  'ascii(\"a阿甘\")',\n",
       "  'bool(a)',\n",
       "  'bool(\"a\")',\n",
       "  'bool([0])',\n",
       "  'bool(False)',\n",
       "  'bool([False,0])',\n",
       "  'chr(\"a\")',\n",
       "  'chr(97)',\n",
       "  'class C:\\n    @classmethod\\n    def f(cls, arg1, arg2, ...): ...',\n",
       "  'class C:\\n    @classmethod\\n    def f(cls, arg1, arg2, ...):\\n            return 0',\n",
       "  'class C:\\n    @classmethod\\n    def f(cls, arg1, arg2):\\n            return 0',\n",
       "  \"complex('1+2j')\",\n",
       "  '不能包含空格：',\n",
       "  \"# 不能包含空格：\\ncomplex('1 + 2j')\",\n",
       "  'divmod(5,2)',\n",
       "  \"seasons = ['Spring', 'Summer', 'Fall', 'Winter']\\nlist(enumerate(seasons, start=1))\",\n",
       "  'enumerate(seasons, start=1)',\n",
       "  \"x = 1\\neval('x+1')\",\n",
       "  '14. filter(function, iterable)',\n",
       "  'globals()'],\n",
       " 'Out': {1: \"'a\\\\n'\",\n",
       "  4: \"'a'\",\n",
       "  5: \"'a'\",\n",
       "  6: \"'\\\\u5c06\\\\u54e6\\\\u963f\\\\u7518'\",\n",
       "  7: \"'a\\\\u5c06\\\\u54e6\\\\u963f\\\\u7518'\",\n",
       "  8: \"'a阿甘'\",\n",
       "  9: \"'a\\\\u963f\\\\u7518'\",\n",
       "  11: True,\n",
       "  12: True,\n",
       "  13: False,\n",
       "  14: True,\n",
       "  16: 'a',\n",
       "  20: (1+2j),\n",
       "  23: (2, 1),\n",
       "  24: [(1, 'Spring'), (2, 'Summer'), (3, 'Fall'), (4, 'Winter')],\n",
       "  25: <enumerate at 0x7fa5c0cdbb40>,\n",
       "  26: 2},\n",
       " '_': 2,\n",
       " '_1': \"'a\\\\n'\",\n",
       " '_11': True,\n",
       " '_12': True,\n",
       " '_13': False,\n",
       " '_14': True,\n",
       " '_16': 'a',\n",
       " '_20': (1+2j),\n",
       " '_23': (2, 1),\n",
       " '_24': [(1, 'Spring'), (2, 'Summer'), (3, 'Fall'), (4, 'Winter')],\n",
       " '_25': <enumerate at 0x7fa5c0cdbb40>,\n",
       " '_26': 2,\n",
       " '_4': \"'a'\",\n",
       " '_5': \"'a'\",\n",
       " '_6': \"'\\\\u5c06\\\\u54e6\\\\u963f\\\\u7518'\",\n",
       " '_7': \"'a\\\\u5c06\\\\u54e6\\\\u963f\\\\u7518'\",\n",
       " '_8': \"'a阿甘'\",\n",
       " '_9': \"'a\\\\u963f\\\\u7518'\",\n",
       " '__': <enumerate at 0x7fa5c0cdbb40>,\n",
       " '___': [(1, 'Spring'), (2, 'Summer'), (3, 'Fall'), (4, 'Winter')],\n",
       " '__builtin__': <module 'builtins' (built-in)>,\n",
       " '__builtins__': <module 'builtins' (built-in)>,\n",
       " '__doc__': 'Automatically created module for IPython interactive environment',\n",
       " '__loader__': None,\n",
       " '__name__': '__main__',\n",
       " '__package__': None,\n",
       " '__spec__': None,\n",
       " '_dh': ['/home/chlin/Projects/Python Learning'],\n",
       " '_i': '14. filter(function, iterable)',\n",
       " '_i1': 'ascii(\"a\\\\n\")',\n",
       " '_i10': 'bool(a)',\n",
       " '_i11': 'bool(\"a\")',\n",
       " '_i12': 'bool([0])',\n",
       " '_i13': 'bool(False)',\n",
       " '_i14': 'bool([False,0])',\n",
       " '_i15': 'chr(\"a\")',\n",
       " '_i16': 'chr(97)',\n",
       " '_i17': 'class C:\\n    @classmethod\\n    def f(cls, arg1, arg2, ...): ...',\n",
       " '_i18': 'class C:\\n    @classmethod\\n    def f(cls, arg1, arg2, ...):\\n            return 0',\n",
       " '_i19': 'class C:\\n    @classmethod\\n    def f(cls, arg1, arg2):\\n            return 0',\n",
       " '_i2': 'ascii(\"a\\\\x\")',\n",
       " '_i20': \"complex('1+2j')\",\n",
       " '_i21': '不能包含空格：',\n",
       " '_i22': \"# 不能包含空格：\\ncomplex('1 + 2j')\",\n",
       " '_i23': 'divmod(5,2)',\n",
       " '_i24': \"seasons = ['Spring', 'Summer', 'Fall', 'Winter']\\nlist(enumerate(seasons, start=1))\",\n",
       " '_i25': 'enumerate(seasons, start=1)',\n",
       " '_i26': \"x = 1\\neval('x+1')\",\n",
       " '_i27': '14. filter(function, iterable)',\n",
       " '_i28': 'globals()',\n",
       " '_i3': 'ascii(\"a\\\\\")',\n",
       " '_i4': 'ascii(\"a\")',\n",
       " '_i5': 'repr(\"a\")',\n",
       " '_i6': 'ascii(\"将哦阿甘\")',\n",
       " '_i7': 'ascii(\"a将哦阿甘\")',\n",
       " '_i8': 'repr(\"a阿甘\")',\n",
       " '_i9': 'ascii(\"a阿甘\")',\n",
       " '_ih': ['',\n",
       "  'ascii(\"a\\\\n\")',\n",
       "  'ascii(\"a\\\\x\")',\n",
       "  'ascii(\"a\\\\\")',\n",
       "  'ascii(\"a\")',\n",
       "  'repr(\"a\")',\n",
       "  'ascii(\"将哦阿甘\")',\n",
       "  'ascii(\"a将哦阿甘\")',\n",
       "  'repr(\"a阿甘\")',\n",
       "  'ascii(\"a阿甘\")',\n",
       "  'bool(a)',\n",
       "  'bool(\"a\")',\n",
       "  'bool([0])',\n",
       "  'bool(False)',\n",
       "  'bool([False,0])',\n",
       "  'chr(\"a\")',\n",
       "  'chr(97)',\n",
       "  'class C:\\n    @classmethod\\n    def f(cls, arg1, arg2, ...): ...',\n",
       "  'class C:\\n    @classmethod\\n    def f(cls, arg1, arg2, ...):\\n            return 0',\n",
       "  'class C:\\n    @classmethod\\n    def f(cls, arg1, arg2):\\n            return 0',\n",
       "  \"complex('1+2j')\",\n",
       "  '不能包含空格：',\n",
       "  \"# 不能包含空格：\\ncomplex('1 + 2j')\",\n",
       "  'divmod(5,2)',\n",
       "  \"seasons = ['Spring', 'Summer', 'Fall', 'Winter']\\nlist(enumerate(seasons, start=1))\",\n",
       "  'enumerate(seasons, start=1)',\n",
       "  \"x = 1\\neval('x+1')\",\n",
       "  '14. filter(function, iterable)',\n",
       "  'globals()'],\n",
       " '_ii': \"x = 1\\neval('x+1')\",\n",
       " '_iii': 'enumerate(seasons, start=1)',\n",
       " '_oh': {1: \"'a\\\\n'\",\n",
       "  4: \"'a'\",\n",
       "  5: \"'a'\",\n",
       "  6: \"'\\\\u5c06\\\\u54e6\\\\u963f\\\\u7518'\",\n",
       "  7: \"'a\\\\u5c06\\\\u54e6\\\\u963f\\\\u7518'\",\n",
       "  8: \"'a阿甘'\",\n",
       "  9: \"'a\\\\u963f\\\\u7518'\",\n",
       "  11: True,\n",
       "  12: True,\n",
       "  13: False,\n",
       "  14: True,\n",
       "  16: 'a',\n",
       "  20: (1+2j),\n",
       "  23: (2, 1),\n",
       "  24: [(1, 'Spring'), (2, 'Summer'), (3, 'Fall'), (4, 'Winter')],\n",
       "  25: <enumerate at 0x7fa5c0cdbb40>,\n",
       "  26: 2},\n",
       " '_sh': <module 'IPython.core.shadowns' from '/usr/local/lib/python3.5/dist-packages/IPython/core/shadowns.py'>,\n",
       " 'exit': <IPython.core.autocall.ZMQExitAutocall at 0x7fa5c3dfd780>,\n",
       " 'get_ipython': <bound method InteractiveShell.get_ipython of <ipykernel.zmqshell.ZMQInteractiveShell object at 0x7fa5c4e27ac8>>,\n",
       " 'quit': <IPython.core.autocall.ZMQExitAutocall at 0x7fa5c3dfd780>,\n",
       " 'seasons': ['Spring', 'Summer', 'Fall', 'Winter'],\n",
       " 'x': 1}"
      ]
     },
     "execution_count": 28,
     "metadata": {},
     "output_type": "execute_result"
    }
   ],
   "source": [
    "globals()"
   ]
  },
  {
   "cell_type": "markdown",
   "metadata": {},
   "source": [
    "### 17. hasattr(object, name)\n",
    "\n",
    "    判断一个对象是否含有属性名为ｎａｍｅ，是，则返回True"
   ]
  },
  {
   "cell_type": "markdown",
   "metadata": {},
   "source": [
    "### 18. hash(object)\n",
    "    哈希算法将任意长度的二进制值映射为固定长度的较小二进制值，这个小的二进制值称为哈希值。\n",
    "\n",
    "    HASH是根据文件的内容的数据通过逻辑运算得到的数值, 不同的文件(即使是相同的文件名)得到的HASH值是不同的, 所以HASH值就成了每一个文件在电驴（eMule）里的身份证"
   ]
  },
  {
   "cell_type": "code",
   "execution_count": 30,
   "metadata": {},
   "outputs": [
    {
     "data": {
      "text/plain": [
       "1"
      ]
     },
     "execution_count": 30,
     "metadata": {},
     "output_type": "execute_result"
    }
   ],
   "source": [
    "hash(1.0)"
   ]
  },
  {
   "cell_type": "code",
   "execution_count": 31,
   "metadata": {},
   "outputs": [
    {
     "data": {
      "text/plain": [
       "-8625745979586034450"
      ]
     },
     "execution_count": 31,
     "metadata": {},
     "output_type": "execute_result"
    }
   ],
   "source": [
    "hash(\"ajkjoajekgh\")"
   ]
  },
  {
   "cell_type": "markdown",
   "metadata": {},
   "source": [
    "### 19. help([object])"
   ]
  },
  {
   "cell_type": "markdown",
   "metadata": {},
   "source": [
    "### 20. hex(x)\n",
    "\n",
    "    将整数转化为１６进制数形式的字符串（以０ｘ开头）"
   ]
  },
  {
   "cell_type": "markdown",
   "metadata": {},
   "source": [
    "### 21. id(object)\n",
    "\n",
    "    返回一个对象的“身份”。每个对象的ｉｄ是不同的，但是不同时存在的两个对象的ｉｄ仍有可能相同。\n",
    "    在CPython的实现细节中，这个ｉｄ就是对象在内存中的地址"
   ]
  },
  {
   "cell_type": "markdown",
   "metadata": {},
   "source": [
    "### 22. map(function, iterable, …)\n",
    "\n",
    "    返回一个迭代器，他将iterable里的每个元素用function进行计算，最终yield出结果"
   ]
  },
  {
   "cell_type": "markdown",
   "metadata": {},
   "source": [
    "### 23. max(iterable, *[, key, default])/min\n",
    "### &nbsp; &nbsp; &nbsp; max(arg1, arg2, *args[, key])/min"
   ]
  },
  {
   "cell_type": "markdown",
   "metadata": {},
   "source": [
    "返回最大值。key是一个只有一个参数的排序函数；default是iterable为空的时候的默认值"
   ]
  },
  {
   "cell_type": "code",
   "execution_count": 35,
   "metadata": {},
   "outputs": [
    {
     "name": "stdout",
     "output_type": "stream",
     "text": [
      "{'name': 'zat', 'price': 1}\n",
      "{'name': 'rdw', 'price': 666}\n"
     ]
    }
   ],
   "source": [
    "d1 = {'name': 'egon', 'price': 100}\n",
    "d2 = {'name': 'rdw', 'price': 666}\n",
    "d3 = {'name': 'zat', 'price': 1}\n",
    "l1 = [d1, d2, d3]\n",
    "a = max(l1, key=lambda x: x['name'])\n",
    "print(a)\n",
    "b = max(l1, key=lambda x: x['price'])\n",
    "print(b)"
   ]
  },
  {
   "cell_type": "markdown",
   "metadata": {},
   "source": [
    "### 24. memoryview(obj)"
   ]
  },
  {
   "cell_type": "code",
   "execution_count": 49,
   "metadata": {},
   "outputs": [
    {
     "ename": "TypeError",
     "evalue": "memoryview: a bytes-like object is required, not 'int'",
     "output_type": "error",
     "traceback": [
      "\u001b[0;31m---------------------------------------------------------------------------\u001b[0m",
      "\u001b[0;31mTypeError\u001b[0m                                 Traceback (most recent call last)",
      "\u001b[0;32m<ipython-input-49-293145b81cef>\u001b[0m in \u001b[0;36m<module>\u001b[0;34m()\u001b[0m\n\u001b[1;32m      1\u001b[0m \u001b[0ma\u001b[0m \u001b[0;34m=\u001b[0m \u001b[0;36m10\u001b[0m\u001b[0;34m\u001b[0m\u001b[0m\n\u001b[0;32m----> 2\u001b[0;31m \u001b[0mmemoryview\u001b[0m\u001b[0;34m(\u001b[0m\u001b[0ma\u001b[0m\u001b[0;34m)\u001b[0m\u001b[0;34m\u001b[0m\u001b[0m\n\u001b[0m",
      "\u001b[0;31mTypeError\u001b[0m: memoryview: a bytes-like object is required, not 'int'"
     ]
    }
   ],
   "source": [
    "a = 10\n",
    "memoryview(a)"
   ]
  },
  {
   "cell_type": "markdown",
   "metadata": {},
   "source": [
    "### 25. next(iterator[, default])"
   ]
  },
  {
   "cell_type": "markdown",
   "metadata": {},
   "source": [
    "### 26. open(file, mode=’r’, buffering=-1, encoding=None, errors=None, newline=None, closefd=True, opener=None)"
   ]
  },
  {
   "cell_type": "markdown",
   "metadata": {},
   "source": [
    "Character\tMeaning  \n",
    "'r'\topen for reading (default)  \n",
    "'w'\topen for writing, truncating the file first  \n",
    "'x'\topen for exclusive creation, failing if the file already exists  \n",
    "'a'\topen for writing, appending to the end of the file if it exists  \n",
    "'b'\tbinary mode  \n",
    "'t'\ttext mode (default)  \n",
    "'+'\topen a disk file for updating (reading and writing)  \n",
    "'U'\tuniversal newlines mode (deprecated)  "
   ]
  },
  {
   "cell_type": "markdown",
   "metadata": {},
   "source": [
    "### 27. ord(c)\n",
    "\n",
    "    返回字符ｃ的Unicode码值"
   ]
  },
  {
   "cell_type": "code",
   "execution_count": 50,
   "metadata": {},
   "outputs": [
    {
     "data": {
      "text/plain": [
       "97"
      ]
     },
     "execution_count": 50,
     "metadata": {},
     "output_type": "execute_result"
    }
   ],
   "source": [
    "ord('a')"
   ]
  },
  {
   "cell_type": "markdown",
   "metadata": {},
   "source": [
    "### 28. pow(x, y[, z])"
   ]
  },
  {
   "cell_type": "markdown",
   "metadata": {},
   "source": [
    "### 29. sorted(iterable[, key][, reverse])"
   ]
  },
  {
   "cell_type": "markdown",
   "metadata": {},
   "source": [
    "详情见[Sorting HOW TO](https://docs.python.org/3.5/howto/sorting.html#sortinghowto)"
   ]
  },
  {
   "cell_type": "markdown",
   "metadata": {},
   "source": [
    "### 30. sum(iterable[, start])"
   ]
  },
  {
   "cell_type": "markdown",
   "metadata": {
    "collapsed": true
   },
   "source": [
    "### 31. zip(*iterables)"
   ]
  },
  {
   "cell_type": "markdown",
   "metadata": {},
   "source": [
    "相当于："
   ]
  },
  {
   "cell_type": "code",
   "execution_count": 1,
   "metadata": {
    "collapsed": true
   },
   "outputs": [],
   "source": [
    "def zip(*iterables):\n",
    "    # zip('ABCD', 'xy') --> Ax By\n",
    "    sentinel = object()\n",
    "    iterators = [iter(it) for it in iterables]\n",
    "    while iterators:\n",
    "        result = []\n",
    "        for it in iterators:\n",
    "            elem = next(it, sentinel)\n",
    "            if elem is sentinel:\n",
    "                return\n",
    "            result.append(elem)\n",
    "        yield tuple(result)"
   ]
  },
  {
   "cell_type": "code",
   "execution_count": 3,
   "metadata": {},
   "outputs": [
    {
     "data": {
      "text/plain": [
       "[(1, 4), (2, 5), (3, 6)]"
      ]
     },
     "execution_count": 3,
     "metadata": {},
     "output_type": "execute_result"
    }
   ],
   "source": [
    "x = [1, 2, 3]\n",
    "y = [4, 5, 6]\n",
    "zipped = zip(x, y)\n",
    "list(zipped)"
   ]
  },
  {
   "cell_type": "code",
   "execution_count": 17,
   "metadata": {},
   "outputs": [
    {
     "name": "stdout",
     "output_type": "stream",
     "text": [
      "(1, 2, 3)\n",
      "(4, 5, 6)\n"
     ]
    },
    {
     "data": {
      "text/plain": [
       "True"
      ]
     },
     "execution_count": 17,
     "metadata": {},
     "output_type": "execute_result"
    }
   ],
   "source": [
    "x2, y2 = zip(*zip(x, y))\n",
    "print(x2)\n",
    "print(y2)\n",
    "x == list(x2) and y == list(y2)"
   ]
  }
 ],
 "metadata": {
  "kernelspec": {
   "display_name": "Python 3",
   "language": "python",
   "name": "python3"
  },
  "language_info": {
   "codemirror_mode": {
    "name": "ipython",
    "version": 3
   },
   "file_extension": ".py",
   "mimetype": "text/x-python",
   "name": "python",
   "nbconvert_exporter": "python",
   "pygments_lexer": "ipython3",
   "version": "3.5.2"
  }
 },
 "nbformat": 4,
 "nbformat_minor": 2
}
