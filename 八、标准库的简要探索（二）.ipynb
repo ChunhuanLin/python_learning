{
 "cells": [
  {
   "cell_type": "markdown",
   "metadata": {},
   "source": [
    "第二部分包括了一些不常用的高阶技巧"
   ]
  },
  {
   "cell_type": "markdown",
   "metadata": {},
   "source": [
    "### 1. 输出格式"
   ]
  },
  {
   "cell_type": "markdown",
   "metadata": {},
   "source": [
    "[reprlib]()提供了一个自定义的[repr()]，用于简要的展示大或者复杂的容器。"
   ]
  },
  {
   "cell_type": "code",
   "execution_count": 1,
   "metadata": {},
   "outputs": [
    {
     "data": {
      "text/plain": [
       "\"{'a', 'c', 'd', 'e', 'f', 'g', ...}\""
      ]
     },
     "execution_count": 1,
     "metadata": {},
     "output_type": "execute_result"
    }
   ],
   "source": [
    "import reprlib\n",
    "reprlib.repr(set('supercalifragilisticexpialidocious'))"
   ]
  },
  {
   "cell_type": "markdown",
   "metadata": {},
   "source": [
    "[pprint](https://docs.python.org/3.5/library/pprint.html#module-pprint)模块，“pretty printer”"
   ]
  },
  {
   "cell_type": "code",
   "execution_count": 2,
   "metadata": {},
   "outputs": [
    {
     "name": "stdout",
     "output_type": "stream",
     "text": [
      "[[[['black', 'cyan'],\n",
      "   'white',\n",
      "   ['green', 'red']],\n",
      "  [['magenta', 'yellow'],\n",
      "   'blue']]]\n"
     ]
    }
   ],
   "source": [
    "import pprint\n",
    "t = [[[['black', 'cyan'], 'white', ['green', 'red']], [['magenta',\n",
    "    'yellow'], 'blue']]]\n",
    "\n",
    "pprint.pprint(t, width=30)"
   ]
  },
  {
   "cell_type": "markdown",
   "metadata": {},
   "source": [
    "[textwrap](https://docs.python.org/3.5/library/textwrap.html#module-textwrap)，将段落组织到一个给定的窗口大小"
   ]
  },
  {
   "cell_type": "code",
   "execution_count": 3,
   "metadata": {},
   "outputs": [
    {
     "name": "stdout",
     "output_type": "stream",
     "text": [
      "The wrap() method is just like fill()\n",
      "except that it returns a list of strings\n",
      "instead of one big string with newlines\n",
      "to separate the wrapped lines.\n"
     ]
    }
   ],
   "source": [
    "import textwrap\n",
    "doc = \"\"\"The wrap() method is just like fill() except that it returns\n",
    "a list of strings instead of one big string with newlines to separate\n",
    "the wrapped lines.\"\"\"\n",
    "\n",
    "print(textwrap.fill(doc, width=40))\n"
   ]
  },
  {
   "cell_type": "markdown",
   "metadata": {},
   "source": [
    "[locale]模块提供了一个关联不同文化的数据格式的数据集。"
   ]
  },
  {
   "cell_type": "raw",
   "metadata": {},
   "source": [
    "import locale\n",
    "locale.setlocale(locale.LC_ALL, 'English_United States.1252')\n",
    "\n",
    "conv = locale.localeconv()          # get a mapping of conventions\n",
    "x = 1234567.8\n",
    "locale.format(\"%d\", x, grouping=True)\n",
    "\n",
    "locale.format_string(\"%s%.*f\", (conv['currency_symbol'],\n",
    "                     conv['frac_digits'], x), grouping=True)"
   ]
  },
  {
   "cell_type": "markdown",
   "metadata": {},
   "source": [
    "### 2. 模板"
   ]
  },
  {
   "cell_type": "code",
   "execution_count": null,
   "metadata": {
    "collapsed": true
   },
   "outputs": [],
   "source": []
  }
 ],
 "metadata": {
  "kernelspec": {
   "display_name": "Python 3",
   "language": "python",
   "name": "python3"
  },
  "language_info": {
   "codemirror_mode": {
    "name": "ipython",
    "version": 3
   },
   "file_extension": ".py",
   "mimetype": "text/x-python",
   "name": "python",
   "nbconvert_exporter": "python",
   "pygments_lexer": "ipython3",
   "version": "3.5.2"
  }
 },
 "nbformat": 4,
 "nbformat_minor": 2
}
